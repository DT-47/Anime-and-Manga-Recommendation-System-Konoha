{
  "nbformat": 4,
  "nbformat_minor": 0,
  "metadata": {
    "colab": {
      "provenance": [],
      "toc_visible": true
    },
    "kernelspec": {
      "name": "python3",
      "display_name": "Python 3"
    },
    "language_info": {
      "name": "python"
    }
  },
  "cells": [
    {
      "cell_type": "code",
      "execution_count": null,
      "metadata": {
        "id": "LLd-FK9QqlRx"
      },
      "outputs": [],
      "source": [
        "import numpy as np\n",
        "import pandas as pd\n",
        "import matplotlib.pyplot as plt\n",
        "import seaborn as sns\n",
        "sns.set_style('whitegrid')\n",
        "%matplotlib inline\n",
        "df = pd.read_csv('rating.csv')\n",
        "anime = pd.read_csv('anime.csv')\n",
        "df = pd.merge(df,anime.drop('rating',axis=1),on='anime_id')\n",
        "df.head()\n",
        "df.groupby('name')['rating'].mean().sort_values(ascending=False).head(10)\n",
        "df.groupby('name')['rating'].count().sort_values(ascending=False).head(10)\n",
        "plt.figure(figsize=(15,5))\n",
        "ratings['num of ratings'].hist(bins=300)\n",
        "plt.xlim(0,3000)\n",
        "ratings['rating'].hist(bins=50)\n",
        "sns.jointplot(x='rating',y='num of ratings',data=ratings)\n",
        "def check_genre(genre_list,string):\n",
        "    if any(x in string for x in genre_list):\n",
        "        return True\n",
        "    else:\n",
        "        return False\n",
        "    \n",
        "def get_recommendation(name):\n",
        "    #generating list of anime with the same genre with target\n",
        "    anime_genre = genre_dict.loc[name].values[0].split(', ')\n",
        "    cols = anime[anime['genre'].apply(\n",
        "        lambda x: check_genre(anime_genre,str(x)))]['name'].tolist()\n",
        "    \n",
        "    #create matrix based on generated list\n",
        "    animemat = df[df['name'].isin(cols)].pivot_table(\n",
        "        index='user_id',columns='name',values='rating')\n",
        "       \n",
        "    #create correlation table\n",
        "    anime_user_rating = animemat[name]\n",
        "    similiar_anime = animemat.corrwith(anime_user_rating)\n",
        "    corr_anime = pd.DataFrame(similiar_anime,columns=['correlation'])\n",
        "    corr_anime = corr_anime.join(ratings['num of ratings'])\n",
        "    corr_anime.dropna(inplace=True)\n",
        "    corr_anime = corr_anime[corr_anime['num of ratings']>5000].sort_values(\n",
        "        'correlation',ascending=False)\n",
        "    \n",
        "    return corr_anime.head(10)\n",
        "get_recommendation('Shingeki no Kyojin')\n",
        "get_recommendation('Kimi no Na wa.')\n",
        "get_recommendation('Naruto')\n",
        "get_recommendation('Mushishi')\n",
        "get_recommendation('Noragami')\n"
      ]
    }
  ]
}